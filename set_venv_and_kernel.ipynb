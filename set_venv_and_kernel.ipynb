{
 "cells": [
  {
   "cell_type": "markdown",
   "id": "bf68444f-3efe-4f8c-8de0-7d382cbf67df",
   "metadata": {},
   "source": [
    "<h1 style=\"color:#003A70; font-family:'Arial'; font-size:36px; border-bottom: 2px solid #003A70; padding-bottom:10px;\">\n",
    "SET UP DE ENTORNO Y KERNEL:\n",
    "\n",
    "Análisis y Predicción del Riesgo de Siniestro en Seguros de Automóviles\n",
    "</h1>\n",
    "\n",
    "<h3 style=\"color:#009FE3; font-family:'Arial'; font-size:24px;\">\n",
    "<li style=\"margin-bottom: 10px;\">\n",
    "    <strong>Marc Román Porras </strong>\n",
    "</li>    \n",
    "<li style=\"margin-bottom: 10px;\">\n",
    "    <strong>Máster Universitario en Ciencia de Datos </strong>\n",
    "</li>   \n",
    "<li style=\"margin-bottom: 10px;\">\n",
    "    <strong>Universitat Oberta de Catalunya </strong>\n",
    "</li> \n",
    "</h3>"
   ]
  },
  {
   "cell_type": "markdown",
   "id": "3e551cc8-9133-484f-9d29-73968c294583",
   "metadata": {},
   "source": [
    "<div style=\"border-left: 6px solid #3498db; background-color: #eaf4fc; padding: 15px; border-radius: 6px; margin-bottom: 15px;\">\n",
    "  <strong style=\"font-size: 1.1em;\">💡 Idea:</strong> Preparación del entono typo para poder ejecutar el notebook..\n",
    "</div>"
   ]
  },
  {
   "cell_type": "markdown",
   "id": "a1c2963a-b51a-4588-8c0f-654e1b1b7a97",
   "metadata": {},
   "source": [
    "\n",
    "Pasos básicos para la creación de un entorno virtual y su asociación como kernel de Jupyter (al tratarse de un Notebook). Puntos básicos:\n",
    "\n",
    "1. Creación de carpeta base de entornos: `~/environments` (si no se tiene)\n",
    "2. Creación del entorno virtual: `~/environments/xxxxx`\n",
    "3. Actición del entorno\n",
    "4. Instalación de dependencias desde fichero typo `requirements.txt`\n",
    "5. Registro del entorno como kernel de Jupyter\n"
   ]
  },
  {
   "cell_type": "code",
   "execution_count": null,
   "id": "4e947605-2098-4188-a97b-0c8d655cc3da",
   "metadata": {},
   "outputs": [],
   "source": [
    "# Creamos la carpeta base para guardado de los entornos (solo es necesario una vez):\n",
    "!mkdir -p ~/environments\n",
    "\n",
    "# Creo el entorno virtual:\n",
    "!python -m venv ~/environments/tfm_venv_001\n",
    "\n",
    "# Activo entorno virtual:\n",
    "!source ~/environments/tfm_venv_001/bin/activate\n",
    "\n",
    "# Instalo dependencias\n",
    "!~/environments/tfm_venv_001/bin/pip install -r requirements_tfm.txt\n",
    "\n",
    "# Registrio el Kernel-------------------:\n",
    "\n",
    "# Instalo ipykernel en el entorno\n",
    "!~/environments/tfm_venv_001/bin/pip install ipykernel\n",
    "\n",
    "# Registro el entorno como kernel de Jupyter\n",
    "!~/environments/tfm_venv_001/bin/python -m ipykernel install --user --name=tfm_venv_001"
   ]
  },
  {
   "cell_type": "markdown",
   "id": "b98f0eda-5aa0-4c95-a3fb-f50f09047715",
   "metadata": {},
   "source": [
    "<hr style=\"border: 0; height: 2px; background-color: #3498db; margin: 30px 0;\">\n",
    "<br>\n",
    "<div style=\"text-align: center; font-size: 0.9em; color: gray; margin-top: 30px; font-style: italic;\">\n",
    "  Notebook creado por <strong>Marc Román Porras</strong> · Última edición: 202505 · </a> <a href=\"https://github.com/romarc98/Analisis-y-Prediccion-del-Riesgo-de-Siniestro-en-Seguros-de-Automoviles---TFM\" style=\"color: #3498db;\">GitHub</a>\n",
    "</div>"
   ]
  },
  {
   "cell_type": "code",
   "execution_count": null,
   "id": "6fabf7c2-0623-4811-84e3-120792a8782a",
   "metadata": {},
   "outputs": [],
   "source": []
  }
 ],
 "metadata": {
  "kernelspec": {
   "display_name": "Python",
   "language": "python",
   "name": "base"
  },
  "language_info": {
   "codemirror_mode": {
    "name": "ipython",
    "version": 3
   },
   "file_extension": ".py",
   "mimetype": "text/x-python",
   "name": "python",
   "nbconvert_exporter": "python",
   "pygments_lexer": "ipython3",
   "version": "3.10.16"
  },
  "widgets": {
   "application/vnd.jupyter.widget-state+json": {
    "state": {},
    "version_major": 2,
    "version_minor": 0
   }
  }
 },
 "nbformat": 4,
 "nbformat_minor": 5
}
